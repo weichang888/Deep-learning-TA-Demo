{
  "cells": [
    {
      "cell_type": "code",
      "execution_count": null,
      "metadata": {
        "colab": {
          "base_uri": "https://localhost:8080/"
        },
        "id": "39_obQeP7Tge",
        "outputId": "cdad33a8-c262-4163-df38-050a8a3467a1"
      },
      "outputs": [
        {
          "name": "stdout",
          "output_type": "stream",
          "text": [
            "0.23.4\n",
            "[['Milk', 'Eggs', 'Bread'], ['Milk', 'Eggs'], ['Milk', 'Bread'], ['Eggs', 'Apple']]\n",
            "==============================\n",
            "   Apple  Bread   Eggs   Milk\n",
            "0  False   True   True   True\n",
            "1  False  False   True   True\n",
            "2  False   True  False   True\n",
            "3   True  False   True  False\n",
            "==============================\n",
            "   support             itemsets\n",
            "0     0.25              (Apple)\n",
            "1     0.50              (Bread)\n",
            "2     0.75               (Eggs)\n",
            "3     0.75               (Milk)\n",
            "4     0.25        (Apple, Eggs)\n",
            "5     0.25        (Bread, Eggs)\n",
            "6     0.50        (Bread, Milk)\n",
            "7     0.50         (Milk, Eggs)\n",
            "8     0.25  (Bread, Milk, Eggs)\n",
            "==============================\n",
            "     antecedents consequents  antecedent support  consequent support  support  \\\n",
            "0        (Apple)      (Eggs)                0.25                0.75     0.25   \n",
            "1        (Bread)      (Milk)                0.50                0.75     0.50   \n",
            "2  (Bread, Eggs)      (Milk)                0.25                0.75     0.25   \n",
            "\n",
            "   confidence      lift  representativity  leverage  conviction  \\\n",
            "0         1.0  1.333333               1.0    0.0625         inf   \n",
            "1         1.0  1.333333               1.0    0.1250         inf   \n",
            "2         1.0  1.333333               1.0    0.0625         inf   \n",
            "\n",
            "   zhangs_metric   jaccard  certainty  kulczynski  \n",
            "0       0.333333  0.333333        1.0    0.666667  \n",
            "1       0.500000  0.666667        1.0    0.833333  \n",
            "2       0.333333  0.333333        1.0    0.666667  \n",
            "==============================\n"
          ]
        }
      ],
      "source": [
        "#!pip install panda\n",
        "import pandas as pd\n",
        "\n",
        "#!pip install mlxtend\n",
        "#!pip install mlxtend --upgrade --no-deps\n",
        "import mlxtend\n",
        "#提供機器學習擴充功能的Python套件，包含apriori、fpgrowth、association_rules等函數\n",
        "print(mlxtend.__version__)\n",
        "\n",
        "#list of lists(交易資料)，每一個內部的 list 代表一次交易(購物籃中的物品)\n",
        "dataset = [\n",
        "    [\"Milk\", \"Eggs\", \"Bread\"],\n",
        "    [\"Milk\", \"Eggs\"],\n",
        "    [\"Milk\", \"Bread\"],\n",
        "    [\"Eggs\", \"Apple\"],\n",
        "]\n",
        "print(dataset)\n",
        "print(\"==============================\")\n",
        "\n",
        "from mlxtend.preprocessing import TransactionEncoder\n",
        "\n",
        "te = TransactionEncoder() #將交易資料轉換成One-Hot Encoding格式，使其適用於關聯規則分析\n",
        "te_array = te.fit(dataset).transform(dataset) #將dataset轉換為布林值的矩陣(True/False)，代表該交易是否包含該商品\n",
        "df = pd.DataFrame(te_array, columns=te.columns_)\n",
        "print(df)\n",
        "print(\"==============================\")\n",
        "\n",
        "from mlxtend.frequent_patterns import apriori\n",
        "#使用Apriori演算法找出頻繁項集\n",
        "frequent_itemsets_ap = apriori(df, min_support=0.01, use_colnames=True) #如果某個項目組合在至少 1% 的交易中出現，則視為頻繁項集\n",
        "print(frequent_itemsets_ap)\n",
        "print(\"==============================\")\n",
        "\n",
        "\n",
        "from mlxtend.frequent_patterns import association_rules\n",
        "\n",
        "#產生關聯規則\n",
        "rules_ap = association_rules(frequent_itemsets_ap, metric=\"confidence\", min_threshold=0.8) #最低信賴度設定為0.8（即當A發生時，B也發生的機率至少為80%）\n",
        "print(rules_ap)\n",
        "rules_ap\n",
        "print(\"==============================\")\n",
        "\n"
      ]
    }
  ],
  "metadata": {
    "accelerator": "GPU",
    "colab": {
      "provenance": []
    },
    "kernelspec": {
      "display_name": "base",
      "language": "python",
      "name": "python3"
    },
    "language_info": {
      "codemirror_mode": {
        "name": "ipython",
        "version": 3
      },
      "file_extension": ".py",
      "mimetype": "text/x-python",
      "name": "python",
      "nbconvert_exporter": "python",
      "pygments_lexer": "ipython3",
      "version": "3.9.18"
    }
  },
  "nbformat": 4,
  "nbformat_minor": 0
}
